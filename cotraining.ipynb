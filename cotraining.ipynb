{
 "cells": [
  {
   "cell_type": "markdown",
   "metadata": {
    "id": "UN7UavpVfqVc"
   },
   "source": [
    "# co-training"
   ]
  },
  {
   "cell_type": "code",
   "execution_count": 1,
   "metadata": {
    "id": "abGNtimgfqVh"
   },
   "outputs": [],
   "source": [
    "import torch\n",
    "import torch.nn as nn\n",
    "from torchvision import datasets, transforms\n",
    "from torch.utils.data import DataLoader\n",
    "from torchvision.models import resnet50"
   ]
  },
  {
   "cell_type": "code",
   "execution_count": 2,
   "metadata": {
    "id": "xWEikDnHfqVl"
   },
   "outputs": [],
   "source": [
    "from tqdm import tqdm\n",
    "from math import floor\n",
    "import numpy as np\n",
    "import copy\n",
    "import random\n",
    "import pickle\n",
    "import os"
   ]
  },
  {
   "cell_type": "code",
   "execution_count": 3,
   "metadata": {
    "id": "LbC0oOpWfqVs"
   },
   "outputs": [],
   "source": [
    "def train(loader, model, loss_fn, optimizer, device):\n",
    "    size = len(loader.dataset)\n",
    "    model.train()\n",
    "    for batch, (X, y) in enumerate(loader):\n",
    "        X, y = X.to(device), y.to(device)\n",
    "\n",
    "        # Compute prediction error\n",
    "        pred = model(X)\n",
    "        loss = loss_fn(pred, y)\n",
    "\n",
    "        # Backpropagation\n",
    "        loss.backward()\n",
    "        optimizer.step()\n",
    "        optimizer.zero_grad()\n",
    "        \n",
    "        loss, current = loss, (batch + 1) * len(X)\n",
    "        print(f\"loss: {loss:>7f} [{current:5d} / {size:>5d}]\")\n",
    "        \n",
    "        # if batch % 10 == 0:\n",
    "        #     loss, current = loss, (batch + 1) * len(X)\n",
    "        #     print(f\"loss: {loss:>7f} [{current:5d} / {size:>5d}]\")"
   ]
  },
  {
   "cell_type": "code",
   "execution_count": 4,
   "metadata": {
    "id": "JICxp7zvZqdU"
   },
   "outputs": [],
   "source": [
    "def test(loader, model, loss_fn, device):\n",
    "  size = len(loader.dataset)\n",
    "  num_batches = len(loader)\n",
    "  model.eval()\n",
    "  test_loss, correct = 0, 0\n",
    "  with torch.no_grad():\n",
    "    for X, y in loader:\n",
    "      X, y = X.to(device), y.to(device)\n",
    "      pred = model(X)\n",
    "      test_loss += loss_fn(pred, y).item()\n",
    "      correct += (pred.argmax(1) == y).type(torch.float).sum().item()\n",
    "    test_loss /= num_batches\n",
    "    correct /= size\n",
    "      \n",
    "    print(f\"Test Error: \\n Accuracy: {(100*correct):>0.1f}%, Avg loss: {test_loss:>8f}\")\n",
    "    return test_loss"
   ]
  },
  {
   "cell_type": "code",
   "execution_count": 5,
   "metadata": {
    "id": "TJV3jF3VfqVu"
   },
   "outputs": [],
   "source": [
    "def predict(loader, model, device):\n",
    "    model.eval()\n",
    "    predictions = []\n",
    "    with torch.no_grad():\n",
    "        for X, y in loader:\n",
    "            X, y = X.to(device), y.to(device)\n",
    "            output = model(X)\n",
    "            predictions.append(output)\n",
    "    return torch.cat(predictions) # output shape (# instances, # outputs)"
   ]
  },
  {
   "cell_type": "code",
   "execution_count": 6,
   "metadata": {
    "id": "TqLhkaSzfqVy"
   },
   "outputs": [],
   "source": [
    "# takes in a Tensor of shape e.g. (# instances, # prob outputs) and returns a tuple\n",
    "# (Tensor[top probabilities], Tensor[predicted labels], Tensor[instance indexes])\n",
    "def get_topk_pred(pred, k):\n",
    "    prob, label = torch.max(pred, 1)\n",
    "    idx = torch.argsort(prob, descending=True)[:k]\n",
    "    return prob[idx].cpu(), label[idx].cpu(), idx.cpu() # ...?"
   ]
  },
  {
   "cell_type": "code",
   "execution_count": 7,
   "metadata": {},
   "outputs": [],
   "source": [
    "def add_to_imagefolder(paths, labels, dataset):\n",
    "    \"\"\"\n",
    "    Adds the paths with the labels to an image classification dataset\n",
    "\n",
    "    :list paths: a list of absolute image paths to add to the dataset\n",
    "    :list labels: a list of labels for each path\n",
    "    :Dataset dataset: the dataset to add the samples to\n",
    "    \"\"\"\n",
    "\n",
    "    new_samples = list(zip(paths, labels))\n",
    "\n",
    "    dataset.samples += new_samples\n",
    "\n",
    "    return dataset.samples"
   ]
  },
  {
   "cell_type": "code",
   "execution_count": 8,
   "metadata": {
    "id": "_lBfOpkufqV0"
   },
   "outputs": [],
   "source": [
    "def remove_collisions(lbl_model0, lbl_model1, idx_model0, idx_model1):\n",
    "    # find instances and indices of instances that have\n",
    "    # been labeled as most confident by both model0, model1\n",
    "    inter, idx_inter0, idx_inter1 = np.intersect1d(\n",
    "                                        idx_model0,\n",
    "                                        idx_model1,\n",
    "                                        return_indices=True)\n",
    "\n",
    "    print(f\"Number of predictions (model0): {len(idx_model0)}\")\n",
    "    print(f\"Number of predictions (model1): {len(idx_model1)}\")\n",
    "    print(f\"Found {len(inter)} instances in predict(model0) INTERSECT predict(model1)\")\n",
    "\n",
    "    # bool mask to identify the conflicting predictions (collision)\n",
    "    mask_coll = lbl_model0[idx_inter0] != lbl_model1[idx_inter1]\n",
    "    collisions = inter[mask_coll]\n",
    "\n",
    "    print(f\"Found {len(collisions)} conflicting predictions\")\n",
    "\n",
    "    if (len(collisions) > 0):\n",
    "        print(f\"Collisions: {collisions}\")\n",
    "        # find where these collisions are actually at\n",
    "        # in their respective lists, and remove them...\n",
    "        idx_coll0 = idx_inter0[mask_coll]\n",
    "        idx_coll1 = idx_inter1[mask_coll]\n",
    "\n",
    "        # TODO we probably want to keep some log some of\n",
    "        # these of things... something like that...\n",
    "        # it may be better if we get the image paths\n",
    "        # as these are just indices. hmmm\n",
    "\n",
    "        # masks to remove the instances with conflicting predictions\n",
    "        mask0 = np.ones(len(idx_model0), dtype=bool)\n",
    "        mask0[idx_coll0] = False\n",
    "        mask1 = np.ones(len(idx_model1), dtype=bool)\n",
    "        mask1[idx_coll1] = False\n",
    "\n",
    "        lbl_model0 = lbl_model0[mask0]\n",
    "        lbl_model1 = lbl_model1[mask1]\n",
    "        idx_model0 = idx_model0[mask0]\n",
    "        idx_model1 = idx_model1[mask1]\n",
    "\n",
    "    return lbl_model0, lbl_model1, idx_model0, idx_model1\n"
   ]
  },
  {
   "cell_type": "code",
   "execution_count": 9,
   "metadata": {
    "id": "fK8GHoO9fqV2"
   },
   "outputs": [],
   "source": [
    "# train two models on two different views\n",
    "# then add top k% of predictions on the unlabeled set\n",
    "# to the labeled datasets\n",
    "def cotrain(\n",
    "        loader0, loader1, loader_unlbl,\n",
    "        model0, model1, loss_fn, optimizer0, optimizer1,\n",
    "        k, device):\n",
    "\n",
    "    # TODO early stopping stuffs (???)\n",
    "    # we don't want to do just one forward pass!\n",
    "    # PyTorch has ReduceLROnPlateau, but...\n",
    "    # anyways move this outside this function, maybe.\n",
    "    print(\"training model0 ...\")\n",
    "    train(loader0, model0, loss_fn, optimizer0, device)\n",
    "    print(\"------------------------------\\ntraining model1 ...\")\n",
    "    train(loader1, model1, loss_fn, optimizer1, device)\n",
    "\n",
    "    print(\"------------------------------\\nmaking predictions with model0 ...\")\n",
    "    pred_model0 = predict(loader_unlbl, model0, device)\n",
    "    print(\"making predictions with model1 ...\")\n",
    "    pred_model1 = predict(loader_unlbl, model1, device)\n",
    "\n",
    "    # get top-k predictions (labels, instance indexes in the dataset)\n",
    "    _, lbl_topk0, idx_topk0 = get_topk_pred(\n",
    "                                    pred_model0,\n",
    "                                    k if k <= len(pred_model0) else len(pred_model0))\n",
    "    _, lbl_topk1, idx_topk1 = get_topk_pred(\n",
    "                                    pred_model1, \n",
    "                                    k if k <= len(pred_model1) else len(pred_model1))\n",
    "\n",
    "    print(f\"Number of unlabeled instances: {len(loader_unlbl.dataset)}\")\n",
    "\n",
    "    # what if two models predict confidently on the same instance?\n",
    "    # find and remove conflicting predictions from the lists\n",
    "    lbl_topk0, lbl_topk1, idx_topk0, idx_topk1 = \\\n",
    "    remove_collisions(lbl_topk0, lbl_topk1, idx_topk0, idx_topk1)\n",
    "\n",
    "    # convert from list to array for the convenient numpy indexing\n",
    "    samples_unlbl = np.stack([np.array(a) for a in loader_unlbl.dataset.samples])\n",
    "    list_samples0 = [(str(a[0]), int(a[1])) for a in list(samples_unlbl[idx_topk0])]\n",
    "    list_samples1 = [(str(a[0]), int(a[1])) for a in list(samples_unlbl[idx_topk1])] \n",
    "\n",
    "    paths0 = [i for i, _ in list_samples0]\n",
    "    paths1 = [i for i, _ in list_samples1]\n",
    "\n",
    "    # add pseudolabeled instances to the labeled datasets\n",
    "    loader0.dataset.samples = add_to_imagefolder(paths1, list(lbl_topk1), loader0.dataset)\n",
    "    loader1.dataset.samples = add_to_imagefolder(paths0, list(lbl_topk0), loader1.dataset)\n",
    "\n",
    "    # remove instances from unlabeled dataset\n",
    "    mask_unlbl = np.ones(len(loader_unlbl.dataset), dtype=bool)\n",
    "    mask_unlbl[idx_topk0] = False\n",
    "    mask_unlbl[idx_topk1] = False\n",
    "    print(f\"Number of unlabeled instances to remove: {(~mask_unlbl).sum()}\")\n",
    "    samples_unlbl = samples_unlbl[mask_unlbl]\n",
    "    list_unlbl = [(str(a[0]), int(a[1])) for a in list(samples_unlbl)]\n",
    "    loader_unlbl.dataset.samples = list_unlbl"
   ]
  },
  {
   "cell_type": "code",
   "execution_count": 10,
   "metadata": {
    "id": "sa8SeacifqV6"
   },
   "outputs": [],
   "source": [
    "random.seed(13)"
   ]
  },
  {
   "cell_type": "code",
   "execution_count": 11,
   "metadata": {
    "colab": {
     "base_uri": "https://localhost:8080/"
    },
    "id": "BMJ6WcfZfqV-",
    "outputId": "8a71f7c1-8ed7-4012-bf07-01e45e7a1efc"
   },
   "outputs": [
    {
     "name": "stdout",
     "output_type": "stream",
     "text": [
      "using cuda\n"
     ]
    }
   ],
   "source": [
    "device = torch.device(\"cuda\" if torch.cuda.is_available() else \"cpu\")\n",
    "print(f\"using {device}\")"
   ]
  },
  {
   "cell_type": "code",
   "execution_count": 12,
   "metadata": {},
   "outputs": [],
   "source": [
    "# with open('cotraining_samples_lists.pkl', 'rb') as fp:\n",
    "#     dict = pickle.load(fp)\n",
    "with open('cotraining_samples_lists_fixed.pkl', 'rb') as fp:\n",
    "    dict = pickle.load(fp)"
   ]
  },
  {
   "cell_type": "code",
   "execution_count": 13,
   "metadata": {},
   "outputs": [
    {
     "data": {
      "text/plain": [
       "dict_keys(['labeled', 'inferred', 'class_map'])"
      ]
     },
     "execution_count": 13,
     "metadata": {},
     "output_type": "execute_result"
    }
   ],
   "source": [
    "dict.keys()"
   ]
  },
  {
   "cell_type": "code",
   "execution_count": 14,
   "metadata": {},
   "outputs": [
    {
     "data": {
      "text/plain": [
       "{'dry': 0, 'snow': 1, 'wet': 2}"
      ]
     },
     "execution_count": 14,
     "metadata": {},
     "output_type": "execute_result"
    }
   ],
   "source": [
    "dict['class_map']"
   ]
  },
  {
   "cell_type": "code",
   "execution_count": 15,
   "metadata": {},
   "outputs": [
    {
     "name": "stdout",
     "output_type": "stream",
     "text": [
      "('/ourdisk/hpc/ai2es/jroth/data/labeled/bronx_allsites/snow/NYSDOT_uyomtjhwsay_2022-01-29-06-51-02.jpg', 1)\n",
      "('/ourdisk/hpc/ai2es/datasets/DOT/Skyline_6464/20220129/I_87_at_Interchange_3_(Yonkers_Mile_Square_Road)__Northbound__Skyline_6464_2022-01-29-06:50:09.jpg', 1)\n"
     ]
    }
   ],
   "source": [
    "print(dict['labeled'][0])\n",
    "print(dict['inferred'][0])"
   ]
  },
  {
   "cell_type": "code",
   "execution_count": 16,
   "metadata": {},
   "outputs": [],
   "source": [
    "data_labeled0 = dict['labeled']\n",
    "data_labeled1 = dict['inferred']"
   ]
  },
  {
   "cell_type": "code",
   "execution_count": 17,
   "metadata": {},
   "outputs": [],
   "source": [
    "# holdout -- 20% for a validation set\n",
    "p = 0.20\n",
    "\n",
    "idx_samples = list(range(len(data_labeled0)))\n",
    "idx_val = random.sample(idx_samples, floor(p * len(data_labeled0)))\n",
    "idx_train = list(set(idx_samples) - set(idx_val))\n",
    "\n",
    "lab0_samples = np.stack([np.array(a) for a in data_labeled0])\n",
    "lab1_samples = np.stack([np.array(a) for a in data_labeled1])\n",
    "\n",
    "\n",
    "samples_train0 = [(str(a[0]), int(a[1])) for a in list(lab0_samples[idx_train])]\n",
    "samples_val0 = [(str(a[0]), int(a[1])) for a in list(lab0_samples[idx_val])]\n",
    "samples_train1 = [(str(a[0]), int(a[1])) for a in list(lab1_samples[idx_train])]\n",
    "samples_val1 = [(str(a[0]), int(a[1])) for a in list(lab1_samples[idx_val])]"
   ]
  },
  {
   "cell_type": "code",
   "execution_count": 18,
   "metadata": {},
   "outputs": [
    {
     "name": "stdout",
     "output_type": "stream",
     "text": [
      "3443\n",
      "3443\n",
      "860\n",
      "860\n"
     ]
    }
   ],
   "source": [
    "print(len(samples_train0))\n",
    "print(len(samples_train1))\n",
    "print(len(samples_val0))\n",
    "print(len(samples_val1))"
   ]
  },
  {
   "cell_type": "code",
   "execution_count": 19,
   "metadata": {},
   "outputs": [],
   "source": [
    "trans = transforms.Compose([\n",
    "    transforms.Resize(256),\n",
    "    transforms.CenterCrop(224),\n",
    "    transforms.ToTensor()\n",
    "    ])"
   ]
  },
  {
   "cell_type": "code",
   "execution_count": 20,
   "metadata": {},
   "outputs": [],
   "source": [
    "# make some dummies and update the classmap\n",
    "data_train0 = datasets.ImageFolder('/ourdisk/hpc/ai2es/jroth/data/labeled', transform=trans)\n",
    "data_train0.class_to_idx = dict['class_map']\n",
    "data_train0.classes = list(dict['class_map'].keys())\n",
    "\n",
    "# make train, val sets with the actual data from above\n",
    "data_train1 = copy.deepcopy(data_train0)\n",
    "data_val0 = copy.deepcopy(data_train0)\n",
    "data_val1 = copy.deepcopy(data_train0)\n",
    "\n",
    "data_train0.samples = samples_train0\n",
    "data_train1.samples = samples_train1\n",
    "data_val0.samples = samples_val0\n",
    "data_val1.samples = samples_val1\n",
    "\n",
    "# update root for train1, val1 as it's different\n",
    "# don't know if this is needed, but, whatever\n",
    "data_train1.root = '/ourdisk/hpc/ai2es'\n",
    "data_val1.root = '/ourdisk/hpc/ai2es'"
   ]
  },
  {
   "cell_type": "code",
   "execution_count": 21,
   "metadata": {},
   "outputs": [
    {
     "name": "stdout",
     "output_type": "stream",
     "text": [
      "('/ourdisk/hpc/ai2es/jroth/data/labeled/bronx_allsites/snow/NYSDOT_uyomtjhwsay_2022-01-29-06-51-02.jpg', 1)\n",
      "('/ourdisk/hpc/ai2es/datasets/DOT/Skyline_6464/20220129/I_87_at_Interchange_3_(Yonkers_Mile_Square_Road)__Northbound__Skyline_6464_2022-01-29-06:50:09.jpg', 1)\n",
      "('/ourdisk/hpc/ai2es/jroth/data/labeled/bronx_allsites/dry/NYSDOT_m4er5dez4ab_2022-02-25-22-31-02.jpg', 0)\n",
      "('/ourdisk/hpc/ai2es/datasets/DOT/Skyline_6464/20220225/I_87_at_Interchange_3_(Yonkers_Mile_Square_Road)__Northbound__Skyline_6464_2022-02-25-22:30:25.jpg', 0)\n"
     ]
    }
   ],
   "source": [
    "# sanity check\n",
    "print(data_train0.samples[0])\n",
    "print(data_train1.samples[0])\n",
    "print(data_val0.samples[0])\n",
    "print(data_val1.samples[0])"
   ]
  },
  {
   "cell_type": "code",
   "execution_count": 22,
   "metadata": {},
   "outputs": [],
   "source": [
    "model0, model1 = resnet50().to(device), resnet50().to(device)"
   ]
  },
  {
   "cell_type": "code",
   "execution_count": 23,
   "metadata": {},
   "outputs": [],
   "source": [
    "# define loss function and optimizer (trusty ol' SGD)\n",
    "loss_fn = nn.CrossEntropyLoss()\n",
    "optimizer0 = torch.optim.SGD(model0.parameters(), lr=1e-3,momentum=0.9)\n",
    "optimizer1 = torch.optim.SGD(model1.parameters(), lr=1e-3, momentum=0.9)\n",
    "\n",
    "# we also need to define some sort of learning rate/early stopping scheduler\n",
    "scheduler0 = torch.optim.lr_scheduler.ReduceLROnPlateau(optimizer0)\n",
    "scheduler1 = torch.optim.lr_scheduler.ReduceLROnPlateau(optimizer1)"
   ]
  },
  {
   "cell_type": "code",
   "execution_count": 24,
   "metadata": {},
   "outputs": [],
   "source": [
    "# we probably want to test for bigger batches until it can't fit into mem\n",
    "# as well. ahh\n",
    "batch_size = 64\n",
    "\n",
    "loader_train0 = DataLoader(data_train0, batch_size, shuffle=False)\n",
    "loader_val0 = DataLoader(data_val0, batch_size, shuffle=False)\n",
    "loader_train1 = DataLoader(data_train1, batch_size, shuffle=False)\n",
    "loader_val1 = DataLoader(data_val1, batch_size, shuffle=False)"
   ]
  },
  {
   "cell_type": "code",
   "execution_count": 25,
   "metadata": {
    "scrolled": true
   },
   "outputs": [
    {
     "name": "stdout",
     "output_type": "stream",
     "text": [
      "Dataset ImageFolder\n",
      "    Number of datapoints: 3443\n",
      "    Root location: /ourdisk/hpc/ai2es/jroth/data/labeled\n",
      "    StandardTransform\n",
      "Transform: Compose(\n",
      "               Resize(size=256, interpolation=bilinear, max_size=None, antialias=warn)\n",
      "               CenterCrop(size=(224, 224))\n",
      "               ToTensor()\n",
      "           )\n",
      "Dataset ImageFolder\n",
      "    Number of datapoints: 860\n",
      "    Root location: /ourdisk/hpc/ai2es/jroth/data/labeled\n",
      "    StandardTransform\n",
      "Transform: Compose(\n",
      "               Resize(size=256, interpolation=bilinear, max_size=None, antialias=warn)\n",
      "               CenterCrop(size=(224, 224))\n",
      "               ToTensor()\n",
      "           )\n",
      "Dataset ImageFolder\n",
      "    Number of datapoints: 3443\n",
      "    Root location: /ourdisk/hpc/ai2es\n",
      "    StandardTransform\n",
      "Transform: Compose(\n",
      "               Resize(size=256, interpolation=bilinear, max_size=None, antialias=warn)\n",
      "               CenterCrop(size=(224, 224))\n",
      "               ToTensor()\n",
      "           )\n",
      "Dataset ImageFolder\n",
      "    Number of datapoints: 860\n",
      "    Root location: /ourdisk/hpc/ai2es\n",
      "    StandardTransform\n",
      "Transform: Compose(\n",
      "               Resize(size=256, interpolation=bilinear, max_size=None, antialias=warn)\n",
      "               CenterCrop(size=(224, 224))\n",
      "               ToTensor()\n",
      "           )\n"
     ]
    }
   ],
   "source": [
    "print(loader_train0.dataset)\n",
    "print(loader_val0.dataset)\n",
    "print(loader_train1.dataset)\n",
    "print(loader_val1.dataset)"
   ]
  },
  {
   "cell_type": "code",
   "execution_count": 26,
   "metadata": {
    "scrolled": true
   },
   "outputs": [
    {
     "name": "stdout",
     "output_type": "stream",
     "text": [
      "loss: 6.988656 [   64 /  3443]\n",
      "loss: 6.233513 [  128 /  3443]\n",
      "loss: 5.145735 [  192 /  3443]\n",
      "loss: 3.044444 [  256 /  3443]\n",
      "loss: 1.923487 [  320 /  3443]\n",
      "loss: 1.382159 [  384 /  3443]\n",
      "loss: 1.552302 [  448 /  3443]\n",
      "loss: 1.758082 [  512 /  3443]\n",
      "loss: 1.628604 [  576 /  3443]\n",
      "loss: 1.205660 [  640 /  3443]\n",
      "loss: 1.675334 [  704 /  3443]\n",
      "loss: 2.002286 [  768 /  3443]\n",
      "loss: 1.344727 [  832 /  3443]\n",
      "loss: 1.128285 [  896 /  3443]\n",
      "loss: 0.981537 [  960 /  3443]\n",
      "loss: 0.846240 [ 1024 /  3443]\n",
      "loss: 0.942550 [ 1088 /  3443]\n",
      "loss: 0.878120 [ 1152 /  3443]\n",
      "loss: 0.966138 [ 1216 /  3443]\n",
      "loss: 1.078527 [ 1280 /  3443]\n",
      "loss: 0.973281 [ 1344 /  3443]\n",
      "loss: 0.949259 [ 1408 /  3443]\n",
      "loss: 0.859360 [ 1472 /  3443]\n",
      "loss: 0.751226 [ 1536 /  3443]\n",
      "loss: 0.741047 [ 1600 /  3443]\n",
      "loss: 0.689999 [ 1664 /  3443]\n",
      "loss: 0.976324 [ 1728 /  3443]\n",
      "loss: 1.019539 [ 1792 /  3443]\n",
      "loss: 0.849389 [ 1856 /  3443]\n",
      "loss: 1.203480 [ 1920 /  3443]\n",
      "loss: 0.880234 [ 1984 /  3443]\n",
      "loss: 0.703524 [ 2048 /  3443]\n",
      "loss: 0.812248 [ 2112 /  3443]\n",
      "loss: 1.062160 [ 2176 /  3443]\n",
      "loss: 1.110482 [ 2240 /  3443]\n",
      "loss: 0.802250 [ 2304 /  3443]\n",
      "loss: 0.934135 [ 2368 /  3443]\n",
      "loss: 0.900539 [ 2432 /  3443]\n",
      "loss: 0.813120 [ 2496 /  3443]\n",
      "loss: 0.769814 [ 2560 /  3443]\n",
      "loss: 1.055034 [ 2624 /  3443]\n",
      "loss: 0.818686 [ 2688 /  3443]\n",
      "loss: 0.873275 [ 2752 /  3443]\n",
      "loss: 0.905868 [ 2816 /  3443]\n",
      "loss: 0.727983 [ 2880 /  3443]\n",
      "loss: 1.075272 [ 2944 /  3443]\n",
      "loss: 0.743087 [ 3008 /  3443]\n",
      "loss: 0.964239 [ 3072 /  3443]\n",
      "loss: 0.851968 [ 3136 /  3443]\n",
      "loss: 1.007257 [ 3200 /  3443]\n",
      "loss: 0.776941 [ 3264 /  3443]\n",
      "loss: 0.792121 [ 3328 /  3443]\n",
      "loss: 0.772041 [ 3392 /  3443]\n",
      "loss: 0.956804 [ 2754 /  3443]\n"
     ]
    }
   ],
   "source": [
    "train(loader_train0, model0, loss_fn, optimizer0, device)"
   ]
  },
  {
   "cell_type": "code",
   "execution_count": 27,
   "metadata": {},
   "outputs": [
    {
     "name": "stdout",
     "output_type": "stream",
     "text": [
      "Test Error: \n",
      " Accuracy: 62.7%, Avg loss: 0.924459\n"
     ]
    },
    {
     "ename": "NameError",
     "evalue": "name 'tess_loss' is not defined",
     "output_type": "error",
     "traceback": [
      "\u001b[0;31m---------------------------------------------------------------------------\u001b[0m",
      "\u001b[0;31mNameError\u001b[0m                                 Traceback (most recent call last)",
      "Cell \u001b[0;32mIn[27], line 1\u001b[0m\n\u001b[0;32m----> 1\u001b[0m \u001b[43mtest\u001b[49m\u001b[43m(\u001b[49m\u001b[43mloader_val0\u001b[49m\u001b[43m,\u001b[49m\u001b[43m \u001b[49m\u001b[43mmodel0\u001b[49m\u001b[43m,\u001b[49m\u001b[43m \u001b[49m\u001b[43mloss_fn\u001b[49m\u001b[43m,\u001b[49m\u001b[43m \u001b[49m\u001b[43mdevice\u001b[49m\u001b[43m)\u001b[49m\n",
      "Cell \u001b[0;32mIn[4], line 16\u001b[0m, in \u001b[0;36mtest\u001b[0;34m(loader, model, loss_fn, device)\u001b[0m\n\u001b[1;32m     13\u001b[0m correct \u001b[38;5;241m/\u001b[39m\u001b[38;5;241m=\u001b[39m size\n\u001b[1;32m     15\u001b[0m \u001b[38;5;28mprint\u001b[39m(\u001b[38;5;124mf\u001b[39m\u001b[38;5;124m\"\u001b[39m\u001b[38;5;124mTest Error: \u001b[39m\u001b[38;5;130;01m\\n\u001b[39;00m\u001b[38;5;124m Accuracy: \u001b[39m\u001b[38;5;132;01m{\u001b[39;00m(\u001b[38;5;241m100\u001b[39m\u001b[38;5;241m*\u001b[39mcorrect)\u001b[38;5;132;01m:\u001b[39;00m\u001b[38;5;124m>0.1f\u001b[39m\u001b[38;5;132;01m}\u001b[39;00m\u001b[38;5;124m%, Avg loss: \u001b[39m\u001b[38;5;132;01m{\u001b[39;00mtest_loss\u001b[38;5;132;01m:\u001b[39;00m\u001b[38;5;124m>8f\u001b[39m\u001b[38;5;132;01m}\u001b[39;00m\u001b[38;5;124m\"\u001b[39m)\n\u001b[0;32m---> 16\u001b[0m \u001b[38;5;28;01mreturn\u001b[39;00m \u001b[43mtess_loss\u001b[49m, correct\n",
      "\u001b[0;31mNameError\u001b[0m: name 'tess_loss' is not defined"
     ]
    }
   ],
   "source": [
    "test(loader_val0, model0, loss_fn, device)"
   ]
  }
 ],
 "metadata": {
  "accelerator": "GPU",
  "colab": {
   "gpuType": "T4",
   "provenance": []
  },
  "kernelspec": {
   "display_name": "Python 3 (ipykernel)",
   "language": "python",
   "name": "python3"
  },
  "language_info": {
   "codemirror_mode": {
    "name": "ipython",
    "version": 3
   },
   "file_extension": ".py",
   "mimetype": "text/x-python",
   "name": "python",
   "nbconvert_exporter": "python",
   "pygments_lexer": "ipython3",
   "version": "3.10.12"
  }
 },
 "nbformat": 4,
 "nbformat_minor": 4
}
