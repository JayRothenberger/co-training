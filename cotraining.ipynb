{
 "cells": [
  {
   "cell_type": "markdown",
   "metadata": {
    "id": "UN7UavpVfqVc"
   },
   "source": [
    "# co-training"
   ]
  },
  {
   "cell_type": "code",
   "execution_count": 1,
   "metadata": {
    "id": "abGNtimgfqVh"
   },
   "outputs": [],
   "source": [
    "import torch\n",
    "import torch.nn as nn\n",
    "from torch.utils.data import DataLoader\n",
    "from torchvision import datasets, transforms"
   ]
  },
  {
   "cell_type": "code",
   "execution_count": 2,
   "metadata": {
    "id": "xWEikDnHfqVl"
   },
   "outputs": [],
   "source": [
    "from tqdm import tqdm\n",
    "import numpy as np\n",
    "import copy\n",
    "import random\n",
    "import pickle\n",
    "import os"
   ]
  },
  {
   "cell_type": "code",
   "execution_count": 3,
   "metadata": {
    "id": "ICd2z9HdfqVn"
   },
   "outputs": [],
   "source": [
    "class ConvNet(nn.Module):\n",
    "    def __init__(self):\n",
    "        super(ConvNet, self).__init__()\n",
    "\n",
    "        self.block1 = nn.Sequential(\n",
    "            # C X H X W\n",
    "            # 3 x 28 x 28 (input)\n",
    "            nn.Conv2d(3, 32, 3), # 32 x 26 x 26\n",
    "            nn.MaxPool2d(2),\n",
    "            nn.ReLU(),\n",
    "            # 32 x 13 x 13\n",
    "            nn.Conv2d(32, 64, 3), # 64 x 11 x 11\n",
    "            nn.MaxPool2d(2),\n",
    "            nn.ReLU(),\n",
    "            # 64 x 5 x 5\n",
    "            nn.Conv2d(64, 128, 3), # 128 x 3 x 3\n",
    "            nn.ReLU()\n",
    "        )\n",
    "\n",
    "        self.fc1 = nn.Sequential(\n",
    "            nn.Flatten(),\n",
    "            nn.Linear(128 * 3 * 3, 3),\n",
    "        )\n",
    "\n",
    "    def forward(self, x):\n",
    "        x = self.block1(x)\n",
    "        x = self.fc1(x)\n",
    "        return x"
   ]
  },
  {
   "cell_type": "code",
   "execution_count": 4,
   "metadata": {
    "id": "LbC0oOpWfqVs"
   },
   "outputs": [],
   "source": [
    "def train(loader, model, loss_fn, optimizer, device):\n",
    "    size = len(loader.dataset)\n",
    "    model.train()\n",
    "    for batch, (X, y) in enumerate(loader):\n",
    "        X, y = X.to(device), y.to(device)\n",
    "\n",
    "        # Compute prediction error\n",
    "        pred = model(X)\n",
    "        loss = loss_fn(pred, y)\n",
    "\n",
    "        # Backpropagation\n",
    "        loss.backward()\n",
    "        optimizer.step()\n",
    "        optimizer.zero_grad()\n",
    "\n",
    "        loss, current = loss.item(), (batch + 1) * len(X)\n",
    "        print(f\"loss: {loss:>7f} [{current:5d} / {size:>5d}]\")\n",
    "        \n",
    "        # if batch % 100 == 0:\n",
    "        #     loss, current = loss.item(), (batch + 1) * len(X)\n",
    "        #     print(f\"loss: {loss:>7f} [{current:5d} / {size:>5d}]\")"
   ]
  },
  {
   "cell_type": "code",
   "execution_count": 5,
   "metadata": {
    "id": "TJV3jF3VfqVu"
   },
   "outputs": [],
   "source": [
    "def predict(loader, model, device):\n",
    "    model.eval()\n",
    "    predictions = []\n",
    "    with torch.no_grad():\n",
    "        for X, y in loader:\n",
    "            X, y = X.to(device), y.to(device)\n",
    "            output = model(X)\n",
    "            predictions.append(output)\n",
    "    return torch.cat(predictions) # output shape (# instances, # outputs)"
   ]
  },
  {
   "cell_type": "code",
   "execution_count": 6,
   "metadata": {
    "id": "TqLhkaSzfqVy"
   },
   "outputs": [],
   "source": [
    "# takes in a Tensor of shape e.g. (# instances, # prob outputs) and returns a tuple\n",
    "# (Tensor[top probabilities], Tensor[predicted labels], Tensor[instance indexes])\n",
    "def get_topk_pred(pred, k):\n",
    "    prob, label = torch.max(pred, 1)\n",
    "    idx = torch.argsort(prob, descending=True)[:k]\n",
    "    return prob[idx].cpu(), label[idx].cpu(), idx[idx].cpu() # ...?"
   ]
  },
  {
   "cell_type": "code",
   "execution_count": 7,
   "metadata": {
    "id": "_lBfOpkufqV0"
   },
   "outputs": [],
   "source": [
    "def remove_collisions(lbl_model0, lbl_model1, idx_model0, idx_model1):\n",
    "    # find instances and indices of instances that have\n",
    "    # been labeled as most confident by both model0, model1\n",
    "    inter, idx_inter0, idx_inter1 = np.intersect1d(\n",
    "                                        idx_model0,\n",
    "                                        idx_model1,\n",
    "                                        return_indices=True)\n",
    "\n",
    "    print(f\"Number of predictions (model0): {len(idx_model0)}\")\n",
    "    print(f\"Number of predictions (model1): {len(idx_model1)}\")\n",
    "    print(f\"Found {len(inter)} instances in predict(model0) INTERSECT predict(model1)\")\n",
    "    # print(f\"Intersection: {inter}\")\n",
    "\n",
    "    # bool mask to identify the conflicting predictions (collision)\n",
    "    mask_coll = lbl_model0[idx_inter0] != lbl_model1[idx_inter1]\n",
    "    collisions = inter[mask_coll]\n",
    "\n",
    "    print(f\"Found {len(collisions)} conflicting predictions\")\n",
    "\n",
    "    if (len(collisions) > 0):\n",
    "        print(f\"Collisions: {collisions}\")\n",
    "        # find where these collisions are actually at\n",
    "        # in their respective lists, and remove them...\n",
    "        idx_coll0 = idx_inter0[mask_coll]\n",
    "        idx_coll1 = idx_inter1[mask_coll]\n",
    "\n",
    "        # TODO we probably want to keep some log some of\n",
    "        # these of things... something like that... somehow\n",
    "\n",
    "        # masks to remove the instances with conflicting predictions\n",
    "        mask0 = np.ones(len(idx_model0), dtype=bool)\n",
    "        mask0[idx_coll0] = False\n",
    "        mask1 = np.ones(len(idx_model1), dtype=bool)\n",
    "        mask1[idx_coll1] = False\n",
    "\n",
    "        lbl_model0 = lbl_model0[mask0]\n",
    "        lbl_model1 = lbl_model1[mask1]\n",
    "        idx_model0 = idx_model0[mask0]\n",
    "        idx_model1 = idx_model1[mask1]\n",
    "\n",
    "    return lbl_model0, lbl_model1, idx_model0, idx_model1\n"
   ]
  },
  {
   "cell_type": "code",
   "execution_count": 8,
   "metadata": {
    "id": "fK8GHoO9fqV2"
   },
   "outputs": [],
   "source": [
    "# train two models on two different views\n",
    "# then add top k% of predictions on the unlabeled set\n",
    "# to the labeled datasets\n",
    "def cotrain(\n",
    "        loader0, loader1, loader_unlbl,\n",
    "        model0, model1, loss_fn, optimizer0, optimizer1,\n",
    "        k, device):\n",
    "\n",
    "    print(\"training model0 ...\")\n",
    "    train(loader0, model0, loss_fn, optimizer0, device)\n",
    "    print(\"------------------------------\\ntraining model1 ...\")\n",
    "    train(loader1, model1, loss_fn, optimizer1, device)\n",
    "\n",
    "    print(\"------------------------------\\nmaking predictions with model0 ...\")\n",
    "    pred_model0 = predict(loader_unlbl, model0, device)\n",
    "    print(\"making predictions with model1 ...\")\n",
    "    pred_model1 = predict(loader_unlbl, model1, device)\n",
    "\n",
    "    # get top-k predictions (labels, instance indexes in the dataset)\n",
    "    _, lbl_topk0, idx_topk0 = get_topk_pred(\n",
    "                                    pred_model0,\n",
    "                                    k if k <= len(pred_model0) else len(pred_model0))\n",
    "    _, lbl_topk1, idx_topk1 = get_topk_pred(\n",
    "                                    pred_model1, \n",
    "                                    k if k <= len(pred_model1) else len(pred_model1))\n",
    "\n",
    "    print(f\"Number of unlabeled instances: {len(loader_unlbl.dataset.data)}\")\n",
    "\n",
    "    # what if two models predict confidently on the same instance?\n",
    "    # find and remove conflicting predictions from the lists\n",
    "    lbl_topk0, lbl_topk1, idx_topk0, idx_topk1 = \\\n",
    "    remove_collisions(lbl_topk0, lbl_topk1, idx_topk0, idx_topk1)\n",
    "\n",
    "    # add new pseudolabeled instances to the labeled datasets\n",
    "    loader0.dataset.data = torch.cat((\n",
    "                                loader0.dataset.data,\n",
    "                                loader_unlbl.dataset.data[idx_topk1]), 0)\n",
    "    loader0.dataset.targets = torch.cat((\n",
    "                                loader0.dataset.targets,\n",
    "                                lbl_topk1), 0)\n",
    "    loader1.dataset.data = torch.cat((\n",
    "                                loader1.dataset.data,\n",
    "                                loader_unlbl.dataset.data[idx_topk0]), 0)\n",
    "    loader1.dataset.targets = torch.cat((\n",
    "                                loader1.dataset.targets,\n",
    "                                lbl_topk0), 0)\n",
    "\n",
    "    # remove instances from unlabeled dataset\n",
    "    mask_unlbl = np.ones(len(loader_unlbl.dataset.data), dtype=bool)\n",
    "    mask_unlbl[idx_topk0] = False\n",
    "    mask_unlbl[idx_topk1] = False\n",
    "    print(f\"Number of unlabeled instances to remove: {(~mask_unlbl).sum()}\")\n",
    "    loader_unlbl.dataset.data = loader_unlbl.dataset.data[mask_unlbl]\n"
   ]
  },
  {
   "cell_type": "code",
   "execution_count": 9,
   "metadata": {
    "id": "JICxp7zvZqdU"
   },
   "outputs": [],
   "source": [
    "def test(loader, model, loss_fn, device):\n",
    "  size = len(loader.dataset)\n",
    "  num_batches = len(loader)\n",
    "  model.eval()\n",
    "  test_loss, correct = 0, 0\n",
    "  with torch.no_grad():\n",
    "    for X, y in loader:\n",
    "      X, y = X.to(device), y.to(device)\n",
    "      pred = model(X)\n",
    "      test_loss += loss_fn(pred, y).item()\n",
    "      correct += (pred.argmax(1) == y).type(torch.float).sum().item()\n",
    "    test_loss /= num_batches\n",
    "    correct /= size\n",
    "    print(f\"Test Error: \\n Accuracy: {(100*correct):>0.1f}%, Avg loss: {test_loss:>8f}\")"
   ]
  },
  {
   "cell_type": "code",
   "execution_count": 10,
   "metadata": {},
   "outputs": [],
   "source": [
    "def add_to_imagefolder(paths, labels, dataset):\n",
    "    \"\"\"\n",
    "    Adds the paths with the labels to an image classification dataset\n",
    "\n",
    "    :list paths: a list of absolute image paths to add to the dataset\n",
    "    :list labels: a list of labels for each path\n",
    "    :Dataset dataset: the dataset to add the samples to\n",
    "    \"\"\"\n",
    "\n",
    "    new_samples = list(zip(paths, labels))\n",
    "\n",
    "    dataset.samples += new_samples\n",
    "\n",
    "    return dataset"
   ]
  },
  {
   "cell_type": "code",
   "execution_count": 11,
   "metadata": {
    "id": "sa8SeacifqV6"
   },
   "outputs": [],
   "source": [
    "random.seed(13)"
   ]
  },
  {
   "cell_type": "code",
   "execution_count": 12,
   "metadata": {
    "colab": {
     "base_uri": "https://localhost:8080/"
    },
    "id": "BMJ6WcfZfqV-",
    "outputId": "8a71f7c1-8ed7-4012-bf07-01e45e7a1efc"
   },
   "outputs": [
    {
     "name": "stdout",
     "output_type": "stream",
     "text": [
      "using cuda\n"
     ]
    }
   ],
   "source": [
    "device = torch.device(\"cuda\" if torch.cuda.is_available() else \"cpu\")\n",
    "print(f\"using {device}\")"
   ]
  },
  {
   "cell_type": "code",
   "execution_count": 13,
   "metadata": {},
   "outputs": [],
   "source": [
    "# with open('cotraining_samples_lists.pkl', 'rb') as fp:\n",
    "#     dict = pickle.load(fp)\n",
    "with open('cotraining_samples_lists_fixed.pkl', 'rb') as fp:\n",
    "    dict = pickle.load(fp)"
   ]
  },
  {
   "cell_type": "code",
   "execution_count": 14,
   "metadata": {},
   "outputs": [
    {
     "data": {
      "text/plain": [
       "dict_keys(['labeled', 'inferred', 'class_map'])"
      ]
     },
     "execution_count": 14,
     "metadata": {},
     "output_type": "execute_result"
    }
   ],
   "source": [
    "dict.keys()"
   ]
  },
  {
   "cell_type": "code",
   "execution_count": 15,
   "metadata": {},
   "outputs": [
    {
     "data": {
      "text/plain": [
       "{'dry': 0, 'snow': 1, 'wet': 2}"
      ]
     },
     "execution_count": 15,
     "metadata": {},
     "output_type": "execute_result"
    }
   ],
   "source": [
    "dict['class_map']"
   ]
  },
  {
   "cell_type": "code",
   "execution_count": 16,
   "metadata": {},
   "outputs": [],
   "source": [
    "# TODO update these transforms\n",
    "# this is just a quick thing to test that it works\n",
    "# with the currently working CNN architecture.\n",
    "trans = transforms.Compose([\n",
    "    transforms.CenterCrop(28),\n",
    "    transforms.ToTensor()\n",
    "    ])"
   ]
  },
  {
   "cell_type": "code",
   "execution_count": 17,
   "metadata": {},
   "outputs": [],
   "source": [
    "# make dummies\n",
    "data_labeled = datasets.ImageFolder('/ourdisk/hpc/ai2es/jroth/data/labeled', transform=trans)\n",
    "data_unlabeled = datasets.ImageFolder('/ourdisk/hpc/ai2es/jroth/data/labeled', transform=trans)"
   ]
  },
  {
   "cell_type": "code",
   "execution_count": 18,
   "metadata": {},
   "outputs": [
    {
     "data": {
      "text/plain": [
       "('/ourdisk/hpc/ai2es/jroth/data/labeled/bronx_allsites/dry/NYSDOT_m4er5dez4ab_2022-01-26-00-01-07.jpg',\n",
       " 0)"
      ]
     },
     "execution_count": 18,
     "metadata": {},
     "output_type": "execute_result"
    }
   ],
   "source": [
    "(data_labeled.samples[0])"
   ]
  },
  {
   "cell_type": "code",
   "execution_count": 19,
   "metadata": {},
   "outputs": [
    {
     "data": {
      "text/plain": [
       "('/ourdisk/hpc/ai2es/jroth/data/labeled/bronx_allsites/snow/NYSDOT_uyomtjhwsay_2022-01-29-06-51-02.jpg',\n",
       " 1)"
      ]
     },
     "execution_count": 19,
     "metadata": {},
     "output_type": "execute_result"
    }
   ],
   "source": [
    "dict['labeled'][0]"
   ]
  },
  {
   "cell_type": "code",
   "execution_count": 20,
   "metadata": {},
   "outputs": [],
   "source": [
    "# # whoops, the paths are relative\n",
    "# # let's go ahead and replace these with the absolute paths\n",
    "# root0 = '/ourdisk/hpc/ai2es/jroth/'\n",
    "\n",
    "# # dunno there might be a better way than this. anyways\n",
    "# # also the labels are incorrect... let's re-index these\n",
    "# for i, (img_path, label) in enumerate(dict['labeled']):\n",
    "#     dict['labeled'][i] = (img_path.replace('./', root0), label - 1)"
   ]
  },
  {
   "cell_type": "code",
   "execution_count": 21,
   "metadata": {},
   "outputs": [
    {
     "data": {
      "text/plain": [
       "('/ourdisk/hpc/ai2es/jroth/data/labeled/bronx_allsites/snow/NYSDOT_uyomtjhwsay_2022-01-29-06-51-02.jpg',\n",
       " 1)"
      ]
     },
     "execution_count": 21,
     "metadata": {},
     "output_type": "execute_result"
    }
   ],
   "source": [
    "dict['labeled'][0]"
   ]
  },
  {
   "cell_type": "code",
   "execution_count": 22,
   "metadata": {},
   "outputs": [],
   "source": [
    "# update samples\n",
    "data_labeled.samples = dict['labeled']\n",
    "\n",
    "# update the class_idx and stuff\n",
    "data_labeled.class_to_idx = dict['class_map']\n",
    "data_labeled.classes = list(dict['class_map'].keys())"
   ]
  },
  {
   "cell_type": "code",
   "execution_count": 23,
   "metadata": {},
   "outputs": [
    {
     "data": {
      "text/plain": [
       "('/ourdisk/hpc/ai2es/datasets/DOT/Skyline_6464/20220129/I_87_at_Interchange_3_(Yonkers_Mile_Square_Road)__Northbound__Skyline_6464_2022-01-29-06:50:09.jpg',\n",
       " 1)"
      ]
     },
     "execution_count": 23,
     "metadata": {},
     "output_type": "execute_result"
    }
   ],
   "source": [
    "dict['inferred'][0]"
   ]
  },
  {
   "cell_type": "code",
   "execution_count": 24,
   "metadata": {},
   "outputs": [],
   "source": [
    "# # same here\n",
    "# root1 = '/ourdisk/hpc/ai2es/'\n",
    "\n",
    "# for i, (img_path, label) in enumerate(dict['inferred']):\n",
    "#     dict['inferred'][i] = (img_path.replace('../', root1), label - 1)"
   ]
  },
  {
   "cell_type": "code",
   "execution_count": 25,
   "metadata": {},
   "outputs": [
    {
     "data": {
      "text/plain": [
       "('/ourdisk/hpc/ai2es/datasets/DOT/Skyline_6464/20220129/I_87_at_Interchange_3_(Yonkers_Mile_Square_Road)__Northbound__Skyline_6464_2022-01-29-06:50:09.jpg',\n",
       " 1)"
      ]
     },
     "execution_count": 25,
     "metadata": {},
     "output_type": "execute_result"
    }
   ],
   "source": [
    "dict['inferred'][0]"
   ]
  },
  {
   "cell_type": "code",
   "execution_count": 26,
   "metadata": {},
   "outputs": [],
   "source": [
    "# update samples list\n",
    "data_unlabeled.samples = dict['inferred']\n",
    "\n",
    "# update class idx and stuff\n",
    "data_unlabeled.class_to_idx = dict['class_map']\n",
    "data_unlabeled.classes = list(dict['class_map'].keys())"
   ]
  },
  {
   "cell_type": "code",
   "execution_count": 27,
   "metadata": {},
   "outputs": [],
   "source": [
    "# # forgot how to python but whatever this does the job\n",
    "# for clazz, idx in dict['class_map'].items():\n",
    "#     dict['class_map'][clazz] = idx - 1\n",
    "\n",
    "# dict['class_map']"
   ]
  },
  {
   "cell_type": "code",
   "execution_count": 28,
   "metadata": {},
   "outputs": [],
   "source": [
    "# # pickle this\n",
    "# with open('cotraining_samples_lists_fixed.pkl', 'wb') as fp:\n",
    "#     pickle.dump(dict, fp)"
   ]
  },
  {
   "cell_type": "code",
   "execution_count": 29,
   "metadata": {},
   "outputs": [
    {
     "data": {
      "text/plain": [
       "4303"
      ]
     },
     "execution_count": 29,
     "metadata": {},
     "output_type": "execute_result"
    }
   ],
   "source": [
    "len(data_labeled)"
   ]
  },
  {
   "cell_type": "code",
   "execution_count": 30,
   "metadata": {},
   "outputs": [
    {
     "data": {
      "text/plain": [
       "4303"
      ]
     },
     "execution_count": 30,
     "metadata": {},
     "output_type": "execute_result"
    }
   ],
   "source": [
    "len(dict['labeled'])"
   ]
  },
  {
   "cell_type": "code",
   "execution_count": 31,
   "metadata": {},
   "outputs": [
    {
     "data": {
      "text/plain": [
       "4303"
      ]
     },
     "execution_count": 31,
     "metadata": {},
     "output_type": "execute_result"
    }
   ],
   "source": [
    "len(data_labeled)"
   ]
  },
  {
   "cell_type": "code",
   "execution_count": 32,
   "metadata": {},
   "outputs": [],
   "source": [
    "model0 = ConvNet().to(device)"
   ]
  },
  {
   "cell_type": "code",
   "execution_count": 33,
   "metadata": {},
   "outputs": [],
   "source": [
    "batch_size = 64\n",
    "loader_labeled = DataLoader(data_labeled, batch_size, False)\n",
    "loader_unlabeled = DataLoader(data_unlabeled, batch_size, False)"
   ]
  },
  {
   "cell_type": "code",
   "execution_count": 34,
   "metadata": {},
   "outputs": [],
   "source": [
    "loss_fn = nn.CrossEntropyLoss()\n",
    "optimizer0 = torch.optim.RMSprop(model0.parameters(), lr=1e-3)"
   ]
  }
 ],
 "metadata": {
  "accelerator": "GPU",
  "colab": {
   "gpuType": "T4",
   "provenance": []
  },
  "kernelspec": {
   "display_name": "Python 3 (ipykernel)",
   "language": "python",
   "name": "python3"
  },
  "language_info": {
   "codemirror_mode": {
    "name": "ipython",
    "version": 3
   },
   "file_extension": ".py",
   "mimetype": "text/x-python",
   "name": "python",
   "nbconvert_exporter": "python",
   "pygments_lexer": "ipython3",
   "version": "3.10.12"
  }
 },
 "nbformat": 4,
 "nbformat_minor": 4
}
